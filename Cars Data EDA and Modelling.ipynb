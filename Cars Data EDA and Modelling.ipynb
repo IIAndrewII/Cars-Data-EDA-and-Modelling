{
 "cells": [
  {
   "cell_type": "markdown",
   "id": "deaa0ad3",
   "metadata": {},
   "source": [
    "# Dataset\n",
    "\n",
    "In this part, you will use the car evaluation database, which was  derived from a simple hierarchical decision model. (M. Bohanec, V. Rajkovic: Expert system for decision making. Sistemica 1(1), pp. 145-157, 1990.).\n",
    "\n",
    "The model uses six attributes:\n",
    "\n",
    "*   buying: Car Buying Price. This attribute has four values: vhigh, high, med, low.\n",
    "*   maint: Price of the Maintenance.  This attribute has four values: vhigh, high, med, low.\n",
    "*   doors: Number of Doors. This attribute has four values: 2, 3, 4, 5-more.\n",
    "*   persons: Capacity in terms of persons to carry. This attribute has three values: 2, 4, more.\n",
    "*   lug_boot: The Size of Luggage Boot. This attribute has three values: small, med, big.\n",
    "*   safety: Estimated Safety of the Car. This attribute has three values: low, med, high.\n",
    "\n",
    "Using the above attributes, it is required to use a decision tree to evalute the car into one of the given values:\n",
    "\n",
    "\n",
    "*   unacc: Unacceptable\n",
    "*   acc: Acceptable\n",
    "*   good: Good\n",
    "*   vgood: Very Good"
   ]
  },
  {
   "cell_type": "code",
   "execution_count": 1,
   "id": "48763adb",
   "metadata": {},
   "outputs": [],
   "source": [
    "import numpy as np\n",
    "import pandas as pd\n",
    "import matplotlib.pyplot as plt\n",
    "import seaborn as sns"
   ]
  },
  {
   "cell_type": "code",
   "execution_count": 2,
   "id": "5b583d5a",
   "metadata": {},
   "outputs": [],
   "source": [
    "data = pd.read_csv('car.csv')"
   ]
  },
  {
   "cell_type": "code",
   "execution_count": 3,
   "id": "69da24e6",
   "metadata": {},
   "outputs": [
    {
     "data": {
      "text/html": [
       "<div>\n",
       "<style scoped>\n",
       "    .dataframe tbody tr th:only-of-type {\n",
       "        vertical-align: middle;\n",
       "    }\n",
       "\n",
       "    .dataframe tbody tr th {\n",
       "        vertical-align: top;\n",
       "    }\n",
       "\n",
       "    .dataframe thead th {\n",
       "        text-align: right;\n",
       "    }\n",
       "</style>\n",
       "<table border=\"1\" class=\"dataframe\">\n",
       "  <thead>\n",
       "    <tr style=\"text-align: right;\">\n",
       "      <th></th>\n",
       "      <th>buying</th>\n",
       "      <th>maint</th>\n",
       "      <th>doors</th>\n",
       "      <th>persons</th>\n",
       "      <th>lug_boot</th>\n",
       "      <th>safety</th>\n",
       "      <th>car_acc</th>\n",
       "    </tr>\n",
       "  </thead>\n",
       "  <tbody>\n",
       "    <tr>\n",
       "      <th>0</th>\n",
       "      <td>vhigh</td>\n",
       "      <td>vhigh</td>\n",
       "      <td>2</td>\n",
       "      <td>2</td>\n",
       "      <td>small</td>\n",
       "      <td>low</td>\n",
       "      <td>unacc</td>\n",
       "    </tr>\n",
       "    <tr>\n",
       "      <th>1</th>\n",
       "      <td>vhigh</td>\n",
       "      <td>vhigh</td>\n",
       "      <td>2</td>\n",
       "      <td>2</td>\n",
       "      <td>small</td>\n",
       "      <td>med</td>\n",
       "      <td>unacc</td>\n",
       "    </tr>\n",
       "    <tr>\n",
       "      <th>2</th>\n",
       "      <td>vhigh</td>\n",
       "      <td>vhigh</td>\n",
       "      <td>2</td>\n",
       "      <td>2</td>\n",
       "      <td>small</td>\n",
       "      <td>high</td>\n",
       "      <td>unacc</td>\n",
       "    </tr>\n",
       "    <tr>\n",
       "      <th>3</th>\n",
       "      <td>vhigh</td>\n",
       "      <td>vhigh</td>\n",
       "      <td>2</td>\n",
       "      <td>2</td>\n",
       "      <td>med</td>\n",
       "      <td>low</td>\n",
       "      <td>unacc</td>\n",
       "    </tr>\n",
       "    <tr>\n",
       "      <th>4</th>\n",
       "      <td>vhigh</td>\n",
       "      <td>vhigh</td>\n",
       "      <td>2</td>\n",
       "      <td>2</td>\n",
       "      <td>med</td>\n",
       "      <td>med</td>\n",
       "      <td>unacc</td>\n",
       "    </tr>\n",
       "  </tbody>\n",
       "</table>\n",
       "</div>"
      ],
      "text/plain": [
       "  buying  maint doors persons lug_boot safety car_acc\n",
       "0  vhigh  vhigh     2       2    small    low   unacc\n",
       "1  vhigh  vhigh     2       2    small    med   unacc\n",
       "2  vhigh  vhigh     2       2    small   high   unacc\n",
       "3  vhigh  vhigh     2       2      med    low   unacc\n",
       "4  vhigh  vhigh     2       2      med    med   unacc"
      ]
     },
     "execution_count": 3,
     "metadata": {},
     "output_type": "execute_result"
    }
   ],
   "source": [
    "data.head()"
   ]
  },
  {
   "cell_type": "code",
   "execution_count": 4,
   "id": "d7943a60",
   "metadata": {},
   "outputs": [],
   "source": [
    "df = data.copy()"
   ]
  },
  {
   "cell_type": "code",
   "execution_count": 5,
   "id": "c4ff3b3e",
   "metadata": {},
   "outputs": [
    {
     "name": "stdout",
     "output_type": "stream",
     "text": [
      "<class 'pandas.core.frame.DataFrame'>\n",
      "RangeIndex: 1728 entries, 0 to 1727\n",
      "Data columns (total 7 columns):\n",
      " #   Column    Non-Null Count  Dtype \n",
      "---  ------    --------------  ----- \n",
      " 0   buying    1728 non-null   object\n",
      " 1   maint     1728 non-null   object\n",
      " 2   doors     1728 non-null   object\n",
      " 3   persons   1728 non-null   object\n",
      " 4   lug_boot  1728 non-null   object\n",
      " 5   safety    1728 non-null   object\n",
      " 6   car_acc   1728 non-null   object\n",
      "dtypes: object(7)\n",
      "memory usage: 94.6+ KB\n"
     ]
    }
   ],
   "source": [
    "df.info()"
   ]
  },
  {
   "cell_type": "code",
   "execution_count": 6,
   "id": "be36694b",
   "metadata": {},
   "outputs": [
    {
     "data": {
      "text/html": [
       "<div>\n",
       "<style scoped>\n",
       "    .dataframe tbody tr th:only-of-type {\n",
       "        vertical-align: middle;\n",
       "    }\n",
       "\n",
       "    .dataframe tbody tr th {\n",
       "        vertical-align: top;\n",
       "    }\n",
       "\n",
       "    .dataframe thead th {\n",
       "        text-align: right;\n",
       "    }\n",
       "</style>\n",
       "<table border=\"1\" class=\"dataframe\">\n",
       "  <thead>\n",
       "    <tr style=\"text-align: right;\">\n",
       "      <th></th>\n",
       "      <th>buying</th>\n",
       "      <th>maint</th>\n",
       "      <th>doors</th>\n",
       "      <th>persons</th>\n",
       "      <th>lug_boot</th>\n",
       "      <th>safety</th>\n",
       "      <th>car_acc</th>\n",
       "    </tr>\n",
       "  </thead>\n",
       "  <tbody>\n",
       "    <tr>\n",
       "      <th>count</th>\n",
       "      <td>1728</td>\n",
       "      <td>1728</td>\n",
       "      <td>1728</td>\n",
       "      <td>1728</td>\n",
       "      <td>1728</td>\n",
       "      <td>1728</td>\n",
       "      <td>1728</td>\n",
       "    </tr>\n",
       "    <tr>\n",
       "      <th>unique</th>\n",
       "      <td>4</td>\n",
       "      <td>4</td>\n",
       "      <td>4</td>\n",
       "      <td>3</td>\n",
       "      <td>3</td>\n",
       "      <td>3</td>\n",
       "      <td>4</td>\n",
       "    </tr>\n",
       "    <tr>\n",
       "      <th>top</th>\n",
       "      <td>vhigh</td>\n",
       "      <td>vhigh</td>\n",
       "      <td>2</td>\n",
       "      <td>2</td>\n",
       "      <td>small</td>\n",
       "      <td>low</td>\n",
       "      <td>unacc</td>\n",
       "    </tr>\n",
       "    <tr>\n",
       "      <th>freq</th>\n",
       "      <td>432</td>\n",
       "      <td>432</td>\n",
       "      <td>432</td>\n",
       "      <td>576</td>\n",
       "      <td>576</td>\n",
       "      <td>576</td>\n",
       "      <td>1210</td>\n",
       "    </tr>\n",
       "  </tbody>\n",
       "</table>\n",
       "</div>"
      ],
      "text/plain": [
       "       buying  maint doors persons lug_boot safety car_acc\n",
       "count    1728   1728  1728    1728     1728   1728    1728\n",
       "unique      4      4     4       3        3      3       4\n",
       "top     vhigh  vhigh     2       2    small    low   unacc\n",
       "freq      432    432   432     576      576    576    1210"
      ]
     },
     "execution_count": 6,
     "metadata": {},
     "output_type": "execute_result"
    }
   ],
   "source": [
    "df.describe()"
   ]
  },
  {
   "cell_type": "code",
   "execution_count": 7,
   "id": "00dd407f",
   "metadata": {},
   "outputs": [
    {
     "data": {
      "text/plain": [
       "buying      0\n",
       "maint       0\n",
       "doors       0\n",
       "persons     0\n",
       "lug_boot    0\n",
       "safety      0\n",
       "car_acc     0\n",
       "dtype: int64"
      ]
     },
     "execution_count": 7,
     "metadata": {},
     "output_type": "execute_result"
    }
   ],
   "source": [
    "df.isna().sum()"
   ]
  },
  {
   "cell_type": "code",
   "execution_count": 8,
   "id": "10b5f228",
   "metadata": {},
   "outputs": [
    {
     "data": {
      "text/plain": [
       "array(['vhigh', 'high', 'med', 'low'], dtype=object)"
      ]
     },
     "execution_count": 8,
     "metadata": {},
     "output_type": "execute_result"
    }
   ],
   "source": [
    "df['buying'].unique()"
   ]
  },
  {
   "cell_type": "code",
   "execution_count": 9,
   "id": "3c4daeea",
   "metadata": {},
   "outputs": [
    {
     "data": {
      "text/plain": [
       "array(['vhigh', 'high', 'med', 'low'], dtype=object)"
      ]
     },
     "execution_count": 9,
     "metadata": {},
     "output_type": "execute_result"
    }
   ],
   "source": [
    "df['maint'].unique()"
   ]
  },
  {
   "cell_type": "code",
   "execution_count": 10,
   "id": "b64c84bf",
   "metadata": {},
   "outputs": [
    {
     "data": {
      "text/plain": [
       "array(['2', '3', '4', '5more'], dtype=object)"
      ]
     },
     "execution_count": 10,
     "metadata": {},
     "output_type": "execute_result"
    }
   ],
   "source": [
    "df['doors'].unique()"
   ]
  },
  {
   "cell_type": "code",
   "execution_count": 11,
   "id": "315289f3",
   "metadata": {},
   "outputs": [
    {
     "data": {
      "text/plain": [
       "array(['2', '4', 'more'], dtype=object)"
      ]
     },
     "execution_count": 11,
     "metadata": {},
     "output_type": "execute_result"
    }
   ],
   "source": [
    "df['persons'].unique()"
   ]
  },
  {
   "cell_type": "code",
   "execution_count": 12,
   "id": "6cab4617",
   "metadata": {},
   "outputs": [
    {
     "data": {
      "text/plain": [
       "array(['small', 'med', 'big'], dtype=object)"
      ]
     },
     "execution_count": 12,
     "metadata": {},
     "output_type": "execute_result"
    }
   ],
   "source": [
    "df['lug_boot'].unique()"
   ]
  },
  {
   "cell_type": "code",
   "execution_count": 13,
   "id": "e962eb55",
   "metadata": {},
   "outputs": [
    {
     "data": {
      "text/plain": [
       "array(['low', 'med', 'high'], dtype=object)"
      ]
     },
     "execution_count": 13,
     "metadata": {},
     "output_type": "execute_result"
    }
   ],
   "source": [
    "df['safety'].unique()"
   ]
  },
  {
   "cell_type": "code",
   "execution_count": 14,
   "id": "ddb9223f",
   "metadata": {},
   "outputs": [
    {
     "data": {
      "text/plain": [
       "array(['unacc', 'acc', 'vgood', 'good'], dtype=object)"
      ]
     },
     "execution_count": 14,
     "metadata": {},
     "output_type": "execute_result"
    }
   ],
   "source": [
    "df['car_acc'].unique()"
   ]
  },
  {
   "cell_type": "code",
   "execution_count": 15,
   "id": "84b25c8b",
   "metadata": {},
   "outputs": [],
   "source": [
    "# label encoder\n",
    "\n",
    "# buying,maint,safety\n",
    "L_H_Dict = {\n",
    "    'vhigh' : 4, 'high' : 3, 'med' : 2, 'low' : 1\n",
    "}\n",
    "df['buying'] = df['buying'].map(L_H_Dict)\n",
    "df['maint'] = df['maint'].map(L_H_Dict)\n",
    "df['safety'] = df['safety'].map(L_H_Dict)\n",
    "\n",
    "# doors\n",
    "df['doors'].replace('5more', '5',inplace=True)\n",
    "\n",
    "# persons\n",
    "df['persons'].replace('more', '6',inplace=True)\n",
    "\n",
    "# lug_boot\n",
    "S_B_Dict = {\n",
    "    'big' : 3, 'med' : 2, 'small' : 1\n",
    "}\n",
    "df['lug_boot'] = df['lug_boot'].map(S_B_Dict)\n",
    "\n",
    "# car_acc\n",
    "car_acc_Dict = {\n",
    "    'unacc' : 1, 'acc' : 2, 'good' : 3, 'vgood' : 4\n",
    "}\n",
    "df['car_acc'] = df['car_acc'].map(car_acc_Dict)\n",
    "\n"
   ]
  },
  {
   "cell_type": "code",
   "execution_count": 16,
   "id": "0ec40278",
   "metadata": {},
   "outputs": [
    {
     "data": {
      "text/html": [
       "<div>\n",
       "<style scoped>\n",
       "    .dataframe tbody tr th:only-of-type {\n",
       "        vertical-align: middle;\n",
       "    }\n",
       "\n",
       "    .dataframe tbody tr th {\n",
       "        vertical-align: top;\n",
       "    }\n",
       "\n",
       "    .dataframe thead th {\n",
       "        text-align: right;\n",
       "    }\n",
       "</style>\n",
       "<table border=\"1\" class=\"dataframe\">\n",
       "  <thead>\n",
       "    <tr style=\"text-align: right;\">\n",
       "      <th></th>\n",
       "      <th>buying</th>\n",
       "      <th>maint</th>\n",
       "      <th>doors</th>\n",
       "      <th>persons</th>\n",
       "      <th>lug_boot</th>\n",
       "      <th>safety</th>\n",
       "      <th>car_acc</th>\n",
       "    </tr>\n",
       "  </thead>\n",
       "  <tbody>\n",
       "    <tr>\n",
       "      <th>0</th>\n",
       "      <td>4</td>\n",
       "      <td>4</td>\n",
       "      <td>2</td>\n",
       "      <td>2</td>\n",
       "      <td>1</td>\n",
       "      <td>1</td>\n",
       "      <td>1</td>\n",
       "    </tr>\n",
       "    <tr>\n",
       "      <th>1</th>\n",
       "      <td>4</td>\n",
       "      <td>4</td>\n",
       "      <td>2</td>\n",
       "      <td>2</td>\n",
       "      <td>1</td>\n",
       "      <td>2</td>\n",
       "      <td>1</td>\n",
       "    </tr>\n",
       "    <tr>\n",
       "      <th>2</th>\n",
       "      <td>4</td>\n",
       "      <td>4</td>\n",
       "      <td>2</td>\n",
       "      <td>2</td>\n",
       "      <td>1</td>\n",
       "      <td>3</td>\n",
       "      <td>1</td>\n",
       "    </tr>\n",
       "    <tr>\n",
       "      <th>3</th>\n",
       "      <td>4</td>\n",
       "      <td>4</td>\n",
       "      <td>2</td>\n",
       "      <td>2</td>\n",
       "      <td>2</td>\n",
       "      <td>1</td>\n",
       "      <td>1</td>\n",
       "    </tr>\n",
       "    <tr>\n",
       "      <th>4</th>\n",
       "      <td>4</td>\n",
       "      <td>4</td>\n",
       "      <td>2</td>\n",
       "      <td>2</td>\n",
       "      <td>2</td>\n",
       "      <td>2</td>\n",
       "      <td>1</td>\n",
       "    </tr>\n",
       "    <tr>\n",
       "      <th>...</th>\n",
       "      <td>...</td>\n",
       "      <td>...</td>\n",
       "      <td>...</td>\n",
       "      <td>...</td>\n",
       "      <td>...</td>\n",
       "      <td>...</td>\n",
       "      <td>...</td>\n",
       "    </tr>\n",
       "    <tr>\n",
       "      <th>1723</th>\n",
       "      <td>1</td>\n",
       "      <td>1</td>\n",
       "      <td>5</td>\n",
       "      <td>6</td>\n",
       "      <td>2</td>\n",
       "      <td>2</td>\n",
       "      <td>3</td>\n",
       "    </tr>\n",
       "    <tr>\n",
       "      <th>1724</th>\n",
       "      <td>1</td>\n",
       "      <td>1</td>\n",
       "      <td>5</td>\n",
       "      <td>6</td>\n",
       "      <td>2</td>\n",
       "      <td>3</td>\n",
       "      <td>4</td>\n",
       "    </tr>\n",
       "    <tr>\n",
       "      <th>1725</th>\n",
       "      <td>1</td>\n",
       "      <td>1</td>\n",
       "      <td>5</td>\n",
       "      <td>6</td>\n",
       "      <td>3</td>\n",
       "      <td>1</td>\n",
       "      <td>1</td>\n",
       "    </tr>\n",
       "    <tr>\n",
       "      <th>1726</th>\n",
       "      <td>1</td>\n",
       "      <td>1</td>\n",
       "      <td>5</td>\n",
       "      <td>6</td>\n",
       "      <td>3</td>\n",
       "      <td>2</td>\n",
       "      <td>3</td>\n",
       "    </tr>\n",
       "    <tr>\n",
       "      <th>1727</th>\n",
       "      <td>1</td>\n",
       "      <td>1</td>\n",
       "      <td>5</td>\n",
       "      <td>6</td>\n",
       "      <td>3</td>\n",
       "      <td>3</td>\n",
       "      <td>4</td>\n",
       "    </tr>\n",
       "  </tbody>\n",
       "</table>\n",
       "<p>1728 rows × 7 columns</p>\n",
       "</div>"
      ],
      "text/plain": [
       "      buying  maint doors persons  lug_boot  safety  car_acc\n",
       "0          4      4     2       2         1       1        1\n",
       "1          4      4     2       2         1       2        1\n",
       "2          4      4     2       2         1       3        1\n",
       "3          4      4     2       2         2       1        1\n",
       "4          4      4     2       2         2       2        1\n",
       "...      ...    ...   ...     ...       ...     ...      ...\n",
       "1723       1      1     5       6         2       2        3\n",
       "1724       1      1     5       6         2       3        4\n",
       "1725       1      1     5       6         3       1        1\n",
       "1726       1      1     5       6         3       2        3\n",
       "1727       1      1     5       6         3       3        4\n",
       "\n",
       "[1728 rows x 7 columns]"
      ]
     },
     "execution_count": 16,
     "metadata": {},
     "output_type": "execute_result"
    }
   ],
   "source": [
    "df"
   ]
  },
  {
   "cell_type": "code",
   "execution_count": 17,
   "id": "aa1e7e70",
   "metadata": {},
   "outputs": [
    {
     "name": "stdout",
     "output_type": "stream",
     "text": [
      "<class 'pandas.core.frame.DataFrame'>\n",
      "RangeIndex: 1728 entries, 0 to 1727\n",
      "Data columns (total 7 columns):\n",
      " #   Column    Non-Null Count  Dtype \n",
      "---  ------    --------------  ----- \n",
      " 0   buying    1728 non-null   int64 \n",
      " 1   maint     1728 non-null   int64 \n",
      " 2   doors     1728 non-null   object\n",
      " 3   persons   1728 non-null   object\n",
      " 4   lug_boot  1728 non-null   int64 \n",
      " 5   safety    1728 non-null   int64 \n",
      " 6   car_acc   1728 non-null   int64 \n",
      "dtypes: int64(5), object(2)\n",
      "memory usage: 94.6+ KB\n"
     ]
    }
   ],
   "source": [
    "df.info()"
   ]
  },
  {
   "cell_type": "code",
   "execution_count": 18,
   "id": "36492928",
   "metadata": {},
   "outputs": [
    {
     "name": "stdout",
     "output_type": "stream",
     "text": [
      "<class 'pandas.core.frame.DataFrame'>\n",
      "RangeIndex: 1728 entries, 0 to 1727\n",
      "Data columns (total 7 columns):\n",
      " #   Column    Non-Null Count  Dtype\n",
      "---  ------    --------------  -----\n",
      " 0   buying    1728 non-null   int64\n",
      " 1   maint     1728 non-null   int64\n",
      " 2   doors     1728 non-null   int64\n",
      " 3   persons   1728 non-null   int64\n",
      " 4   lug_boot  1728 non-null   int64\n",
      " 5   safety    1728 non-null   int64\n",
      " 6   car_acc   1728 non-null   int64\n",
      "dtypes: int64(7)\n",
      "memory usage: 94.6 KB\n"
     ]
    }
   ],
   "source": [
    "df = df.astype('int64')\n",
    "df.info()"
   ]
  },
  {
   "cell_type": "code",
   "execution_count": 19,
   "id": "c2366e3a",
   "metadata": {},
   "outputs": [],
   "source": [
    "X = df.drop(['car_acc'], axis=1)\n",
    "y = df['car_acc']\n",
    "\n",
    "# train test split\n",
    "from sklearn.model_selection import train_test_split\n",
    "X_train, X_test, y_train, y_test = train_test_split(X, y, test_size=0.3, random_state=0 , stratify=y)"
   ]
  },
  {
   "cell_type": "markdown",
   "id": "cdc982c5",
   "metadata": {},
   "source": [
    "## Models:\n"
   ]
  },
  {
   "cell_type": "code",
   "execution_count": 20,
   "id": "39d6deb3",
   "metadata": {},
   "outputs": [
    {
     "name": "stdout",
     "output_type": "stream",
     "text": [
      "Train Report:\n",
      "              precision    recall  f1-score   support\n",
      "\n",
      "           1       0.89      0.93      0.91       847\n",
      "           2       0.68      0.62      0.65       269\n",
      "           3       0.64      0.48      0.55        48\n",
      "           4       0.76      0.71      0.74        45\n",
      "\n",
      "    accuracy                           0.83      1209\n",
      "   macro avg       0.74      0.68      0.71      1209\n",
      "weighted avg       0.83      0.83      0.83      1209\n",
      "\n",
      "__________________________________________________________\n",
      "Test Report:\n",
      "              precision    recall  f1-score   support\n",
      "\n",
      "           1       0.87      0.94      0.90       363\n",
      "           2       0.69      0.58      0.63       115\n",
      "           3       0.57      0.38      0.46        21\n",
      "           4       0.82      0.70      0.76        20\n",
      "\n",
      "    accuracy                           0.83       519\n",
      "   macro avg       0.74      0.65      0.69       519\n",
      "weighted avg       0.82      0.83      0.82       519\n",
      "\n"
     ]
    },
    {
     "name": "stderr",
     "output_type": "stream",
     "text": [
      "D:\\anaconda3\\lib\\site-packages\\sklearn\\linear_model\\_logistic.py:763: ConvergenceWarning: lbfgs failed to converge (status=1):\n",
      "STOP: TOTAL NO. of ITERATIONS REACHED LIMIT.\n",
      "\n",
      "Increase the number of iterations (max_iter) or scale the data as shown in:\n",
      "    https://scikit-learn.org/stable/modules/preprocessing.html\n",
      "Please also refer to the documentation for alternative solver options:\n",
      "    https://scikit-learn.org/stable/modules/linear_model.html#logistic-regression\n",
      "  n_iter_i = _check_optimize_result(\n"
     ]
    }
   ],
   "source": [
    "# LogisticRegression model \n",
    "from sklearn.linear_model import LogisticRegression\n",
    "model = LogisticRegression(random_state=0)\n",
    "model.fit(X_train, y_train)\n",
    "\n",
    "y_predect_train = model.predict(X_train)\n",
    "y_predect_test  = model.predict(X_test)\n",
    "\n",
    "# Model Score \n",
    "from sklearn.metrics import classification_report\n",
    "\n",
    "print(\"Train Report:\")\n",
    "print(classification_report(y_train, y_predect_train))\n",
    "print(\"__________________________________________________________\")\n",
    "print(\"Test Report:\")\n",
    "print(classification_report(y_test, y_predect_test))"
   ]
  },
  {
   "cell_type": "code",
   "execution_count": 21,
   "id": "da7ac3fb",
   "metadata": {},
   "outputs": [
    {
     "name": "stdout",
     "output_type": "stream",
     "text": [
      "Train Report:\n",
      "              precision    recall  f1-score   support\n",
      "\n",
      "           1       0.87      0.95      0.91       847\n",
      "           2       0.72      0.48      0.57       269\n",
      "           3       0.64      0.92      0.75        48\n",
      "           4       0.85      0.76      0.80        45\n",
      "\n",
      "    accuracy                           0.84      1209\n",
      "   macro avg       0.77      0.77      0.76      1209\n",
      "weighted avg       0.83      0.84      0.82      1209\n",
      "\n",
      "__________________________________________________________\n",
      "Test Report:\n",
      "              precision    recall  f1-score   support\n",
      "\n",
      "           1       0.88      0.95      0.91       363\n",
      "           2       0.74      0.50      0.60       115\n",
      "           3       0.59      0.76      0.67        21\n",
      "           4       0.75      0.90      0.82        20\n",
      "\n",
      "    accuracy                           0.84       519\n",
      "   macro avg       0.74      0.78      0.75       519\n",
      "weighted avg       0.83      0.84      0.83       519\n",
      "\n"
     ]
    }
   ],
   "source": [
    "# AdaBoostClassifier model \n",
    "from sklearn.ensemble import AdaBoostClassifier\n",
    "model = AdaBoostClassifier(random_state=0)\n",
    "model.fit(X_train, y_train)\n",
    "\n",
    "y_predect_train = model.predict(X_train)\n",
    "y_predect_test  = model.predict(X_test)\n",
    "\n",
    "# Model Score \n",
    "from sklearn.metrics import classification_report\n",
    "\n",
    "print(\"Train Report:\")\n",
    "print(classification_report(y_train, y_predect_train))\n",
    "print(\"__________________________________________________________\")\n",
    "print(\"Test Report:\")\n",
    "print(classification_report(y_test, y_predect_test))"
   ]
  },
  {
   "cell_type": "code",
   "execution_count": 22,
   "id": "cafa1ace",
   "metadata": {},
   "outputs": [
    {
     "name": "stdout",
     "output_type": "stream",
     "text": [
      "Train Report:\n",
      "              precision    recall  f1-score   support\n",
      "\n",
      "           1       1.00      1.00      1.00       847\n",
      "           2       1.00      1.00      1.00       269\n",
      "           3       1.00      1.00      1.00        48\n",
      "           4       1.00      1.00      1.00        45\n",
      "\n",
      "    accuracy                           1.00      1209\n",
      "   macro avg       1.00      1.00      1.00      1209\n",
      "weighted avg       1.00      1.00      1.00      1209\n",
      "\n",
      "__________________________________________________________\n",
      "Test Report:\n",
      "              precision    recall  f1-score   support\n",
      "\n",
      "           1       1.00      0.99      1.00       363\n",
      "           2       0.98      0.97      0.98       115\n",
      "           3       0.83      0.90      0.86        21\n",
      "           4       0.86      0.90      0.88        20\n",
      "\n",
      "    accuracy                           0.98       519\n",
      "   macro avg       0.92      0.94      0.93       519\n",
      "weighted avg       0.98      0.98      0.98       519\n",
      "\n"
     ]
    }
   ],
   "source": [
    "# DecisionTree model \n",
    "from sklearn.tree import DecisionTreeClassifier\n",
    "dt = DecisionTreeClassifier(random_state=0)\n",
    "dt.fit(X_train, y_train)\n",
    "\n",
    "y_predect_train = dt.predict(X_train)\n",
    "y_predect_test  = dt.predict(X_test)\n",
    "\n",
    "# Model Score \n",
    "from sklearn.metrics import classification_report\n",
    "\n",
    "print(\"Train Report:\")\n",
    "print(classification_report(y_train, y_predect_train))\n",
    "print(\"__________________________________________________________\")\n",
    "print(\"Test Report:\")\n",
    "print(classification_report(y_test, y_predect_test))"
   ]
  },
  {
   "cell_type": "code",
   "execution_count": 23,
   "id": "9cedf1cd",
   "metadata": {},
   "outputs": [
    {
     "name": "stdout",
     "output_type": "stream",
     "text": [
      "Train Report:\n",
      "              precision    recall  f1-score   support\n",
      "\n",
      "           1       1.00      1.00      1.00       847\n",
      "           2       1.00      1.00      1.00       269\n",
      "           3       1.00      1.00      1.00        48\n",
      "           4       1.00      1.00      1.00        45\n",
      "\n",
      "    accuracy                           1.00      1209\n",
      "   macro avg       1.00      1.00      1.00      1209\n",
      "weighted avg       1.00      1.00      1.00      1209\n",
      "\n",
      "__________________________________________________________\n",
      "Test Report:\n",
      "              precision    recall  f1-score   support\n",
      "\n",
      "           1       1.00      0.99      0.99       363\n",
      "           2       0.94      0.97      0.96       115\n",
      "           3       0.89      0.81      0.85        21\n",
      "           4       0.86      0.90      0.88        20\n",
      "\n",
      "    accuracy                           0.97       519\n",
      "   macro avg       0.92      0.92      0.92       519\n",
      "weighted avg       0.98      0.97      0.97       519\n",
      "\n"
     ]
    }
   ],
   "source": [
    "# RandomForest model \n",
    "from sklearn.ensemble import RandomForestClassifier\n",
    "RF = RandomForestClassifier(random_state=0)\n",
    "RF.fit(X_train, y_train)\n",
    "\n",
    "y_predect_train = RF.predict(X_train)\n",
    "y_predect_test  = RF.predict(X_test)\n",
    "\n",
    "# Model Score \n",
    "from sklearn.metrics import classification_report\n",
    "\n",
    "print(\"Train Report:\")\n",
    "print(classification_report(y_train, y_predect_train))\n",
    "print(\"__________________________________________________________\")\n",
    "print(\"Test Report:\")\n",
    "print(classification_report(y_test, y_predect_test))"
   ]
  },
  {
   "cell_type": "markdown",
   "id": "9125d3eb",
   "metadata": {},
   "source": [
    "### DecisionTree model is the best model"
   ]
  },
  {
   "cell_type": "markdown",
   "id": "346bc453",
   "metadata": {},
   "source": [
    "## Feature importances:"
   ]
  },
  {
   "cell_type": "code",
   "execution_count": 24,
   "id": "e61f2aea",
   "metadata": {},
   "outputs": [
    {
     "data": {
      "text/plain": [
       "<AxesSubplot:>"
      ]
     },
     "execution_count": 24,
     "metadata": {},
     "output_type": "execute_result"
    },
    {
     "data": {
      "image/png": "[encoded data removed]",
      "text/plain": [
       "<Figure size 432x288 with 1 Axes>"
      ]
     },
     "metadata": {
      "needs_background": "light"
     },
     "output_type": "display_data"
    }
   ],
   "source": [
    "importance = RF.feature_importances_\n",
    "sns.barplot(x=X.columns, y=importance)"
   ]
  },
  {
   "cell_type": "code",
   "execution_count": 25,
   "id": "6f88c92b",
   "metadata": {},
   "outputs": [
    {
     "data": {
      "text/plain": [
       "<AxesSubplot:>"
      ]
     },
     "execution_count": 25,
     "metadata": {},
     "output_type": "execute_result"
    },
    {
     "data": {
      "image/png": "[encoded data removed]",
      "text/plain": [
       "<Figure size 1080x432 with 2 Axes>"
      ]
     },
     "metadata": {
      "needs_background": "light"
     },
     "output_type": "display_data"
    }
   ],
   "source": [
    "plt.figure(figsize=(15,6))\n",
    "sns.heatmap(np.abs(df.corr()), annot=True)"
   ]
  },
  {
   "cell_type": "markdown",
   "id": "3b626218",
   "metadata": {},
   "source": [
    "## feature importances same as correlation "
   ]
  }
 ],
 "metadata": {
  "hide_input": false,
  "kernelspec": {
   "display_name": "Python 3 (ipykernel)",
   "language": "python",
   "name": "python3"
  },
  "language_info": {
   "codemirror_mode": {
    "name": "ipython",
    "version": 3
   },
   "file_extension": ".py",
   "mimetype": "text/x-python",
   "name": "python",
   "nbconvert_exporter": "python",
   "pygments_lexer": "ipython3",
   "version": "3.9.7"
  }
 },
 "nbformat": 4,
 "nbformat_minor": 5
}
